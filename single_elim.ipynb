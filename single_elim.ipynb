{
 "cells": [
  {
   "cell_type": "markdown",
   "metadata": {},
   "source": [
    "# 16 Team Single Elimination Tournament"
   ]
  },
  {
   "cell_type": "markdown",
   "metadata": {},
   "source": [
    "I'm the Vice President for the UCSD Women's Club Volleyball Team, and I grew tired of organizing tournaments in excel, so or my final project, I decided to create a program that will create the match-ups for a 16 team single elimination bracket. This bracket preserves each team's seed as assigned at the beginning of the tournament. Like in regular tournaments, it ensures that the first seed and the second seed are on opposite ends of the bracket and that good teams play bad teams in the initial stages of the tournament.\n",
    "\n",
    "For your convenience I have provided lists of teams you can copy and paste when prompted (naturally, I have UCSD headed to the finals). Otherwise, you can use any 16 teams you want:\n",
    "\n",
    "All 16 Participants: UCSD, UCSB, UCLA, SDSU, UCD, UCB, UCI, LMU, USD, USF, SJSU, ASU, UofA, CUBoulder, CSU, UCF\n",
    "\n",
    "Winners of round 1: UCSD, USD, ASU, SDSU, UCB, UCLA, USF, CSU\n",
    "\n",
    "Winners of quarterfinals: UCSD, ASU, UCLA, CSU\n",
    "\n",
    "Winners of semifinals: UCSD, CSU"
   ]
  },
  {
   "cell_type": "code",
   "execution_count": 1,
   "metadata": {},
   "outputs": [],
   "source": [
    "from functions import *\n"
   ]
  },
  {
   "cell_type": "code",
   "execution_count": 2,
   "metadata": {},
   "outputs": [],
   "source": [
    "round1_teams = []\n",
    "round2_teams = []\n",
    "round3_teams = []\n",
    "round4_teams = []\n",
    "round1_dict = {}\n",
    "round2_dict = {}\n",
    "round3_dict = {}\n",
    "round4_dict = {}\n",
    "round2_matches = {1:[], 2:[], 3:[], 4:[]}\n",
    "round3_matches = {1:[], 2:[]}\n",
    "round4_matches = {1:[]}"
   ]
  },
  {
   "cell_type": "code",
   "execution_count": 3,
   "metadata": {},
   "outputs": [
    {
     "name": "stdout",
     "output_type": "stream",
     "text": [
      "Name of Tournament dicks\n",
      "Enter teams in order of seeding, 1 to 16, separated by commas: UCSD, UCSB, UCLA, SDSU, UCD, UCB, UCI, LMU, USD, USF, SJSU, ASU, UofA, CUBoulder, CSU, UCF\n",
      "   dicks Round 1    \n",
      "1:UCSD vs 16:UCF\n",
      "8:LMU vs 9:USD\n",
      "5:UCD vs 12:ASU\n",
      "4:SDSU vs 13:UofA\n",
      "6:UCB vs 11:SJSU\n",
      "3:UCLA vs 14:CUBoulder\n",
      "7:UCI vs 10:USF\n",
      "2:UCSB vs 15:CSU\n",
      "Round 1 Winners: UCSD, USD, ASU, SDSU, UCB, UCLA, USF, CSU\n",
      "dicks Quarterfinals\n",
      "1: UCSD  vs  9: USD\n",
      "12: ASU  vs  4: SDSU\n",
      "6: UCB  vs  3: UCLA\n",
      "10: USF  vs  15: CSU\n",
      "Quarterfinal Winners: UCSD, ASU, UCLA, CSU\n",
      "dicks Semifinals\n",
      "1: UCSD  vs  12: ASU\n",
      "3: UCLA  vs  15: CSU\n",
      "Semifinal Winners: UCSD, CSU\n",
      "dicks Finals\n",
      "1: UCSD  vs  15: CSU\n"
     ]
    }
   ],
   "source": [
    "tournament = input('Name of Tournament ')\n",
    "    \n",
    "all_input = input('Enter teams in order of seeding, 1 to 16, separated by commas: ')\n",
    "\n",
    "make_list_of_teams(all_input, round1_teams)\n",
    "make_dict_of_all(round1_teams, round1_dict)\n",
    "single_elim_rd1(round1_dict, tournament)\n",
    "\n",
    "user_input_winners1 = input('Round 1 Winners: ')\n",
    "\n",
    "make_list_of_teams(user_input_winners1, round2_teams)\n",
    "make_dict_winners(round1_dict, round2_teams, round2_dict)\n",
    "single_elim_rd2(round2_dict, round2_matches)\n",
    "print_matches(round2_matches, 'Quarterfinals', tournament)\n",
    "\n",
    "user_input_winners2 = input('Quarterfinal Winners: ')\n",
    "\n",
    "make_list_of_teams(user_input_winners2, round3_teams)\n",
    "make_dict_winners(round2_dict, round3_teams, round3_dict)\n",
    "single_elim_rd3(round3_dict, round3_matches)\n",
    "print_matches(round3_matches, 'Semifinals', tournament)\n",
    "\n",
    "user_input_winners3 = input('Semifinal Winners: ')\n",
    "\n",
    "make_list_of_teams(user_input_winners3, round4_teams)\n",
    "make_dict_winners(round3_dict, round4_teams, round4_dict)\n",
    "single_elim_rd2(round4_dict, round4_matches)\n",
    "print_matches(round4_matches, 'Finals', tournament)"
   ]
  },
  {
   "cell_type": "code",
   "execution_count": null,
   "metadata": {},
   "outputs": [],
   "source": []
  }
 ],
 "metadata": {
  "kernelspec": {
   "display_name": "Python 3",
   "language": "python",
   "name": "python3"
  },
  "language_info": {
   "codemirror_mode": {
    "name": "ipython",
    "version": 3
   },
   "file_extension": ".py",
   "mimetype": "text/x-python",
   "name": "python",
   "nbconvert_exporter": "python",
   "pygments_lexer": "ipython3",
   "version": "3.7.1"
  }
 },
 "nbformat": 4,
 "nbformat_minor": 2
}
